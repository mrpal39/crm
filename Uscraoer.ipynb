{
 "cells": [
  {
   "cell_type": "code",
   "execution_count": 1,
   "metadata": {},
   "outputs": [
    {
     "name": "stdout",
     "output_type": "stream",
     "text": [
      "Requirement already satisfied: helium in ./venv/lib/python3.10/site-packages (3.0.9)\n",
      "Requirement already satisfied: selenium==3.141.0 in ./venv/lib/python3.10/site-packages (from helium) (3.141.0)\n",
      "Requirement already satisfied: urllib3 in ./venv/lib/python3.10/site-packages (from selenium==3.141.0->helium) (1.26.14)\n",
      "Note: you may need to restart the kernel to use updated packages.\n"
     ]
    }
   ],
   "source": [
    "pip install helium"
   ]
  },
  {
   "cell_type": "code",
   "execution_count": 4,
   "metadata": {},
   "outputs": [
    {
     "name": "stdout",
     "output_type": "stream",
     "text": [
      "<selenium.webdriver.chrome.webdriver.WebDriver (session=\"c74cecc40b840ca5fefabd39f88b34b8\")>\n"
     ]
    }
   ],
   "source": [
    "\n",
    "from selenium.webdriver import ChromeOptions\n",
    "from helium import *\n",
    "from selenium.webdriver import DesiredCapabilities\n",
    "import requests\n",
    "options = ChromeOptions()\n",
    "options.add_argument('--proxy-server=1.2.3.4:5678')\n",
    "capabilities = DesiredCapabilities.CHROME\n",
    "capabilities[\"pageLoadStrategy\"] = \"none\"\n",
    "capabilities[\"goog:loggingPrefs\"] = {'performance': 'ALL'}\n",
    "\n",
    "res =start_chrome(url=\"https://www.digitalocean.com/community/tutorials\" ,capabilities=capabilities)\n",
    "\n",
    "\n",
    "\n",
    "\n",
    "\n"
   ]
  },
  {
   "cell_type": "code",
   "execution_count": null,
   "metadata": {},
   "outputs": [],
   "source": []
  }
 ],
 "metadata": {
  "kernelspec": {
   "display_name": "venv",
   "language": "python",
   "name": "python3"
  },
  "language_info": {
   "codemirror_mode": {
    "name": "ipython",
    "version": 3
   },
   "file_extension": ".py",
   "mimetype": "text/x-python",
   "name": "python",
   "nbconvert_exporter": "python",
   "pygments_lexer": "ipython3",
   "version": "3.10.6"
  },
  "orig_nbformat": 4,
  "vscode": {
   "interpreter": {
    "hash": "4b398509e65d8dbcc9bbaeeb5424f6a132ba4cb9228daf0d8d719da928d7453f"
   }
  }
 },
 "nbformat": 4,
 "nbformat_minor": 2
}
